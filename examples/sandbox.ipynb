{
 "cells": [
  {
   "cell_type": "markdown",
   "metadata": {},
   "source": [
    "# Ramsey-Cass-Koopmans model\n",
    "\n",
    "Ramsey model from Chapter 2 of D. Romer's *Advanced Economics* looks as follows...\n",
    "\n",
    "\\begin{align}\n",
    "    \\dot{k}(t) =& k(t)^{\\alpha} - c(t) - (g + n + \\delta)k(t),\\\\\n",
    "    k(0) =& k_0 \\\\\n",
    "    \\dot{c}(t) =& \\Bigg[\\frac{1}{\\theta} \\bigg[\\alpha k(t)^{\\alpha - 1} - \\delta - \\rho - \\theta g\\bigg]\\Bigg]c(t),\\\\\n",
    "    lim_{t\\rightarrow \\infty} c(t) =& c^*\n",
    "\\end{align}\n",
    "\n",
    "...where...\n",
    "\n",
    "* Elasticity of output with respect to catpial: $0 < \\alpha < 1$\n",
    "* Coefficient of relative risk aversion: $0 < \\theta$\n",
    "* Discount rate: $0 < \\rho$\n",
    "* Breakeven investment: $0 < g + n + \\delta$\n",
    "* Convergent lifetime utility: $0 < \\rho - n - (1 - \\theta)g$\n",
    "\n",
    "Note that we are assuming two things...\n",
    "\n",
    "1. Cobb-Douglas production\n",
    "2. Constant Relative Risk Aversion (CRRA) preferences\n",
    "\n"
   ]
  },
  {
   "cell_type": "code",
   "execution_count": 3,
   "metadata": {
    "collapsed": true
   },
   "outputs": [],
   "source": [
    "% matplotlib inline"
   ]
  },
  {
   "cell_type": "code",
   "execution_count": 4,
   "metadata": {
    "collapsed": false
   },
   "outputs": [],
   "source": [
    "import numpy as np\n",
    "import sympy as sym\n",
    "import matplotlib.pyplot as plt\n",
    "import seaborn as sn\n",
    "\n",
    "import pycollocation\n"
   ]
  },
  {
   "cell_type": "code",
   "execution_count": 5,
   "metadata": {
    "collapsed": true
   },
   "outputs": [],
   "source": [
    "#define some  variables\n",
    "t, k, c = sym.symbols(\"t, k, c\")"
   ]
  },
  {
   "cell_type": "code",
   "execution_count": 6,
   "metadata": {
    "collapsed": true
   },
   "outputs": [],
   "source": [
    "#define some production parameters\n",
    "alpha, delta = sym.symbols(\"alpha, delta\")\n",
    "\n",
    "#define growth rates\n",
    "g, n = sym.symbols(\"g, n\")\n",
    "\n",
    "#define some preference parameters\n",
    "theta, rho = sym.symbols(\"theta, rho\")"
   ]
  },
  {
   "cell_type": "code",
   "execution_count": 7,
   "metadata": {
    "collapsed": false
   },
   "outputs": [
    {
     "name": "stdout",
     "output_type": "stream",
     "text": [
      "k**alpha\n"
     ]
    }
   ],
   "source": [
    "#defube a production function\n",
    "f = k**alpha\n",
    "print f"
   ]
  },
  {
   "cell_type": "code",
   "execution_count": 8,
   "metadata": {
    "collapsed": false
   },
   "outputs": [
    {
     "name": "stdout",
     "output_type": "stream",
     "text": [
      "(c**(-theta + 1) - 1)/(-theta + 1)\n"
     ]
    }
   ],
   "source": [
    "#define a flow utility function\n",
    "u = (c**(1 - theta) - 1) / (1 - theta)\n",
    "print u"
   ]
  },
  {
   "cell_type": "code",
   "execution_count": 9,
   "metadata": {
    "collapsed": false
   },
   "outputs": [
    {
     "name": "stdout",
     "output_type": "stream",
     "text": [
      "-c - k*(delta + g + n) + k**alpha\n"
     ]
    }
   ],
   "source": [
    "#define the equation of motion for capital (per unit effective labor)\n",
    "k_dot = f - c - (g + n + delta) * k\n",
    "print k_dot"
   ]
  },
  {
   "cell_type": "code",
   "execution_count": 11,
   "metadata": {
    "collapsed": false
   },
   "outputs": [
    {
     "name": "stdout",
     "output_type": "stream",
     "text": [
      "c*(alpha*k**(alpha - 1) - delta - g*theta - rho)/theta\n"
     ]
    }
   ],
   "source": [
    "#define the Euler equation\n",
    "c_dot = ((1 / theta) * (alpha * k**(alpha - 1) - delta - rho - theta * g))*c\n",
    "print c_dot"
   ]
  },
  {
   "cell_type": "code",
   "execution_count": 35,
   "metadata": {
    "collapsed": false
   },
   "outputs": [
    {
     "name": "stdout",
     "output_type": "stream",
     "text": [
      "{'k': -c - k*(delta + g + n) + k**alpha, 'c': c*(alpha*k**(alpha - 1) - delta - g*theta - rho)/theta}\n"
     ]
    }
   ],
   "source": [
    "#create a dictionary representing the RHS of our model\n",
    "rhs = {'k': k_dot, 'c': c_dot}\n",
    "print rhs"
   ]
  },
  {
   "cell_type": "code",
   "execution_count": 36,
   "metadata": {
    "collapsed": false
   },
   "outputs": [
    {
     "name": "stdout",
     "output_type": "stream",
     "text": [
      "(alpha/(delta + g*theta + rho))**(1/(-alpha + 1))\n"
     ]
    }
   ],
   "source": [
    "#define the steady state value for capital (per unit effective labour)\n",
    "k_star = (alpha / (delta + rho + theta * g)) **(1 / (1 - alpha))\n",
    "print k_star"
   ]
  },
  {
   "cell_type": "code",
   "execution_count": 37,
   "metadata": {
    "collapsed": false
   },
   "outputs": [
    {
     "name": "stdout",
     "output_type": "stream",
     "text": [
      "-(alpha/(delta + g*theta + rho))**(1/(-alpha + 1))*(delta + g + n) + ((alpha/(delta + g*theta + rho))**(1/(-alpha + 1)))**alpha\n"
     ]
    }
   ],
   "source": [
    "#define the steady state value for consumption (per unit effective lavour)\n",
    "c_star = k_star**alpha - (g + n + delta) * k_star\n",
    "print c_star"
   ]
  },
  {
   "cell_type": "code",
   "execution_count": 65,
   "metadata": {
    "collapsed": false
   },
   "outputs": [
    {
     "name": "stdout",
     "output_type": "stream",
     "text": [
      "{'upper': [c + (alpha/(delta + g*theta + rho))**(1/(-alpha + 1))*(delta + g + n) - ((alpha/(delta + g*theta + rho))**(1/(-alpha + 1)))**alpha], 'lower': [k - 1.0]}\n"
     ]
    }
   ],
   "source": [
    "#define some boundary conditions\n",
    "k0 = 1.0\n",
    "\n",
    "bcs = {'lower': [k - k0], 'upper': [c - c_star]}\n",
    "print bcs"
   ]
  },
  {
   "cell_type": "code",
   "execution_count": 66,
   "metadata": {
    "collapsed": true
   },
   "outputs": [],
   "source": [
    "#finally we need to define some parameters...\n",
    "params = {'alpha': 0.33, 'delta': 0.04, 'theta': 1.05, 'rho': 0.05, 'g': 0.02, 'n': 0.02}"
   ]
  },
  {
   "cell_type": "markdown",
   "metadata": {},
   "source": [
    "Using pycollocation"
   ]
  },
  {
   "cell_type": "code",
   "execution_count": 67,
   "metadata": {
    "collapsed": true
   },
   "outputs": [],
   "source": [
    "model = pycollocation.SymbolicBoundaryValueProblem(dependent_vars=['k', 'c'], independent_var='t', rhs=rhs, boundary_conditions=bcs, params=params)"
   ]
  },
  {
   "cell_type": "code",
   "execution_count": 68,
   "metadata": {
    "collapsed": false
   },
   "outputs": [
    {
     "data": {
      "text/plain": [
       "{'c': c*(alpha*k**(alpha - 1) - delta - g*theta - rho)/theta,\n",
       " 'k': -c - k*(delta + g + n) + k**alpha}"
      ]
     },
     "execution_count": 68,
     "metadata": {},
     "output_type": "execute_result"
    }
   ],
   "source": [
    "model.rhs"
   ]
  },
  {
   "cell_type": "code",
   "execution_count": 69,
   "metadata": {
    "collapsed": true
   },
   "outputs": [],
   "source": [
    "solver = pycollocation.OrthogonalPolynomialSolver(model)"
   ]
  },
  {
   "cell_type": "code",
   "execution_count": 70,
   "metadata": {
    "collapsed": true
   },
   "outputs": [],
   "source": [
    "#numeric version of steady state capital\n",
    "def numeric_k_star(alpha, delta, theta, rho, g, n):\n",
    "    return (alpha / (delta + rho + theta * g))**(1 / (1 - alpha))"
   ]
  },
  {
   "cell_type": "code",
   "execution_count": 71,
   "metadata": {
    "collapsed": false
   },
   "outputs": [
    {
     "data": {
      "text/plain": [
       "5.084580947867504"
      ]
     },
     "execution_count": 71,
     "metadata": {},
     "output_type": "execute_result"
    }
   ],
   "source": [
    "numeric_k_star(**params)"
   ]
  },
  {
   "cell_type": "code",
   "execution_count": null,
   "metadata": {
    "collapsed": true
   },
   "outputs": [],
   "source": []
  },
  {
   "cell_type": "code",
   "execution_count": 76,
   "metadata": {
    "collapsed": false
   },
   "outputs": [],
   "source": [
    "#define our domain of approximation\n",
    "domain = [0.0, 100.0]\n",
    "\n",
    "#initial guess for capital\n",
    "N = 1000\n",
    "ts = np.linspace(domain[0], domain[1], N)\n",
    "\n",
    "ks = numeric_k_star(**params) - (numeric_k_star(**params) - k0) * np.exp(-ts)\n",
    "\n",
    "initial_capital_polynomial = np.polynomial.Chebyshev.fit(ts, ks,35, domain)\n",
    "\n",
    "#initial guess for consumption\n",
    "cs = np.log(ks)\n",
    "initial_consumption_polynomial = np.polynomial.Chebyshev.fit(ts, ks, 35, domain)\n",
    "\n",
    "\n",
    "#create a dictionary of the coefs of our polynomials\n",
    "initial_guess = {'k':initial_capital_polynomial.coef,\n",
    "                 'c':initial_consumption_polynomial.coef}"
   ]
  },
  {
   "cell_type": "code",
   "execution_count": 73,
   "metadata": {
    "collapsed": false
   },
   "outputs": [],
   "source": [
    "solver.solve(kind=\"Chebyshev\", \n",
    "             coefs_dict=initial_guess,\n",
    "             domain=domain)"
   ]
  },
  {
   "cell_type": "code",
   "execution_count": 78,
   "metadata": {
    "collapsed": false
   },
   "outputs": [
    {
     "data": {
      "text/plain": [
       "array([  4.37225405e+00,   1.29407760e+00,  -9.72862387e-01,\n",
       "         6.08921292e-01,  -3.18201558e-01,   1.37285311e-01,\n",
       "        -4.62850602e-02,   9.22882158e-03,   2.25265029e-03,\n",
       "        -4.07400457e-03,   3.21211999e-03,  -2.07493833e-03,\n",
       "         1.24105453e-03,  -7.22117265e-04,   4.18592259e-04,\n",
       "        -2.44435831e-04,   1.44396565e-04,  -8.63551433e-05,\n",
       "         5.22449113e-05,  -3.19390959e-05,   1.97071578e-05,\n",
       "        -1.22605018e-05,   7.68428916e-06,  -4.84844392e-06,\n",
       "         3.07792569e-06,  -1.96514557e-06,   1.26163055e-06,\n",
       "        -8.14606070e-07,   5.29424467e-07,  -3.47071441e-07,\n",
       "         2.30580740e-07,  -1.56776432e-07,   1.10978890e-07,\n",
       "        -8.39515496e-08,   4.59631211e-08,  -9.06485055e-09,\n",
       "         1.17873943e+00,   2.28498625e-01,  -1.76366595e-01,\n",
       "         1.16303877e-01,  -6.68076608e-02,   3.42707361e-02,\n",
       "        -1.62089828e-02,   7.36702585e-03,  -3.37782840e-03,\n",
       "         1.63268450e-03,  -8.50106910e-04,   4.74261607e-04,\n",
       "        -2.78167064e-04,   1.68519209e-04,  -1.04250866e-04,\n",
       "         6.54391427e-05,  -4.15333271e-05,   2.65970433e-05,\n",
       "        -1.71602060e-05,   1.11430936e-05,  -7.27662550e-06,\n",
       "         4.77545510e-06,  -3.14799526e-06,   2.08356680e-06,\n",
       "        -1.38419780e-06,   9.22827089e-07,  -6.17389026e-07,\n",
       "         4.14583842e-07,  -2.79625272e-07,   1.89715826e-07,\n",
       "        -1.29871121e-07,   9.02377686e-08,  -6.43792306e-08,\n",
       "         4.78481011e-08,  -3.82330997e-08,   1.72751855e-08])"
      ]
     },
     "execution_count": 78,
     "metadata": {},
     "output_type": "execute_result"
    }
   ],
   "source": [
    "solver.result.x"
   ]
  },
  {
   "cell_type": "code",
   "execution_count": 74,
   "metadata": {
    "collapsed": true
   },
   "outputs": [],
   "source": [
    "#now lets plot the solution\n",
    "visualizer = pycollocation.Visualizer(solver)"
   ]
  },
  {
   "cell_type": "code",
   "execution_count": 75,
   "metadata": {
    "collapsed": false
   },
   "outputs": [
    {
     "data": {
      "image/png": "[encoded data removed]",
      "text/plain": [
       "<matplotlib.figure.Figure at 0x1a855358>"
      ]
     },
     "metadata": {},
     "output_type": "display_data"
    }
   ],
   "source": [
    "visualizer.interpolation_knots = np.linspace(0, 100, 1000)\n",
    "visualizer.solution.plot()\n",
    "plt.show()"
   ]
  },
  {
   "cell_type": "code",
   "execution_count": 77,
   "metadata": {
    "collapsed": false
   },
   "outputs": [
    {
     "data": {
      "image/png": "[encoded data removed]",
      "text/plain": [
       "<matplotlib.figure.Figure at 0x1bfd8518>"
      ]
     },
     "metadata": {},
     "output_type": "display_data"
    }
   ],
   "source": [
    "plt.scatter(ts, ks)\n",
    "plt.plot(ts, initial_capital_polynomial(ts), 'r-')\n",
    "plt.show()"
   ]
  },
  {
   "cell_type": "code",
   "execution_count": 79,
   "metadata": {
    "collapsed": false
   },
   "outputs": [
    {
     "data": {
      "image/png": "[encoded data removed]",
      "text/plain": [
       "<matplotlib.figure.Figure at 0x1c02d6d8>"
      ]
     },
     "metadata": {},
     "output_type": "display_data"
    }
   ],
   "source": [
    "#plot the normalized residuals(ther should be small everywhere)\n",
    "visualizer.normalized_residuals.plot(logy=True)\n",
    "plt.show()"
   ]
  },
  {
   "cell_type": "code",
   "execution_count": null,
   "metadata": {
    "collapsed": true
   },
   "outputs": [],
   "source": []
  }
 ],
 "metadata": {
  "kernelspec": {
   "display_name": "Python 2",
   "language": "python",
   "name": "python2"
  },
  "language_info": {
   "codemirror_mode": {
    "name": "ipython",
    "version": 2
   },
   "file_extension": ".py",
   "mimetype": "text/x-python",
   "name": "python",
   "nbconvert_exporter": "python",
   "pygments_lexer": "ipython2",
   "version": "2.7.9"
  }
 },
 "nbformat": 4,
 "nbformat_minor": 0
}
